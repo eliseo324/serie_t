{
 "cells": [
  {
   "cell_type": "markdown",
   "id": "pacific-cowboy",
   "metadata": {},
   "source": [
    "\n",
    "A continuación se presenta la serie de tiempo"
   ]
  },
  {
   "cell_type": "code",
   "execution_count": null,
   "id": "measured-jacksonville",
   "metadata": {},
   "outputs": [],
   "source": [
    "import pandas as pd\n",
    "import matplotlib.pyplot as plt\n",
    "import seaborn as sns\n",
    "import statsmodels.api as sm\n",
    "import statsmodels.graphics.tsaplots as plot_acf"
   ]
  },
  {
   "cell_type": "code",
   "execution_count": null,
   "id": "short-gateway",
   "metadata": {},
   "outputs": [],
   "source": [
    "df=pd.read_csv('daily-min-temperatures.csv',sep=';')\n",
    "df"
   ]
  },
  {
   "cell_type": "markdown",
   "id": "conservative-jurisdiction",
   "metadata": {},
   "source": [
    "### Tamaño del conjunto de datos"
   ]
  },
  {
   "cell_type": "code",
   "execution_count": null,
   "id": "dominican-equivalent",
   "metadata": {},
   "outputs": [],
   "source": [
    "df.set_index('Date', inplace=True)\n",
    "df.sort_index(inplace=True)\n",
    "df"
   ]
  },
  {
   "cell_type": "code",
   "execution_count": null,
   "id": "ddc0e6e6",
   "metadata": {},
   "outputs": [],
   "source": [
    "df.tail()"
   ]
  },
  {
   "cell_type": "code",
   "execution_count": null,
   "id": "d6b18016",
   "metadata": {},
   "outputs": [],
   "source": [
    "df['Temp'].isnull().values.any()"
   ]
  },
  {
   "cell_type": "markdown",
   "id": "reflected-passage",
   "metadata": {},
   "source": [
    "### Medidas de tendencia central de los valores de la variable **Temp**"
   ]
  },
  {
   "cell_type": "code",
   "execution_count": null,
   "id": "vanilla-spelling",
   "metadata": {},
   "outputs": [],
   "source": [
    "df['Temp'].describe()"
   ]
  },
  {
   "cell_type": "code",
   "execution_count": null,
   "id": "measured-memphis",
   "metadata": {},
   "outputs": [],
   "source": [
    "sns.set(rc={'figure.figsize':(16, 8)}, palette='muted', style = \"whitegrid\")\n",
    "df.plot(y='Temp')\n",
    "\n",
    "plt.xticks(fontsize=12)\n",
    "plt.yticks(fontsize=12)\n",
    "plt.xlabel('Fecha', fontsize = 20)\n",
    "plt.ylabel('Temp', fontsize = 20)\n",
    "plt.title('Serie de tiempo', fontsize = 25)\n",
    "plt.legend(fontsize = 14)\n",
    "plt.show()"
   ]
  },
  {
   "cell_type": "code",
   "execution_count": null,
   "id": "0e83bc80",
   "metadata": {},
   "outputs": [],
   "source": [
    "sns.set(rc={'figure.figsize':(16, 8)}, palette='muted', style = \"whitegrid\")\n",
    "df.loc['1981-01-01':'1982-12-31', 'Temp'].plot()"
   ]
  },
  {
   "cell_type": "code",
   "execution_count": null,
   "id": "understanding-partition",
   "metadata": {},
   "outputs": [],
   "source": [
    "df.loc[:,'Temp'][1000:2000].describe()"
   ]
  },
  {
   "cell_type": "code",
   "execution_count": null,
   "id": "surprised-kidney",
   "metadata": {},
   "outputs": [],
   "source": [
    "fig = plt.figure(figsize=(12,8))\n",
    "ax1 = fig.add_subplot(211)\n",
    "fig = sm.graphics.tsa.plot_acf(df['Temp'].diff().dropna(), lags=40, ax=ax1)\n",
    "ax2 = fig.add_subplot(212)\n",
    "fig = sm.graphics.tsa.plot_pacf(df['Temp'].diff().dropna(), lags=40, ax=ax2)\n",
    "plt.show()"
   ]
  },
  {
   "cell_type": "code",
   "execution_count": null,
   "id": "3b35abfb",
   "metadata": {},
   "outputs": [],
   "source": [
    "fig = plt.figure(figsize=(12,8))\n",
    "ax1 = fig.add_subplot(211)\n",
    "fig = sm.graphics.tsa.plot_acf(df['Temp'], lags=50, ax=ax1)\n",
    "ax2 = fig.add_subplot(212)\n",
    "fig = sm.graphics.tsa.plot_pacf(df['Temp'], lags=50, ax=ax2)\n",
    "plt.show()"
   ]
  },
  {
   "cell_type": "code",
   "execution_count": 1,
   "id": "educated-lighter",
   "metadata": {},
   "outputs": [
    {
     "ename": "SyntaxError",
     "evalue": "unmatched ')' (<ipython-input-1-c71c164d6dc5>, line 2)",
     "output_type": "error",
     "traceback": [
      "\u001b[1;36m  File \u001b[1;32m\"<ipython-input-1-c71c164d6dc5>\"\u001b[1;36m, line \u001b[1;32m2\u001b[0m\n\u001b[1;33m    order=(2,1,0), seasonal_order=(1,1,0,12), simple_differencing=True)\u001b[0m\n\u001b[1;37m                                                                      ^\u001b[0m\n\u001b[1;31mSyntaxError\u001b[0m\u001b[1;31m:\u001b[0m unmatched ')'\n"
     ]
    }
   ],
   "source": [
    "modelo=sm.tsa.statespace.SARIMAX(endog=df['Temp'],order=(2,1,2),seasonal_order=(0,0,1,12),trend='c',enforce_invertibility=False)\n",
    "order=(2,1,0), seasonal_order=(1,1,0,12), simple_differencing=True)\n",
    "resultados=modelo.fit()\n",
    "print(resultados.summary())"
   ]
  },
  {
   "cell_type": "markdown",
   "id": "royal-thirty",
   "metadata": {},
   "source": [
    "### Predicción con redes neuronales\n",
    "Usando datos históricos desde el año 1981 hasta 1990, se implementará una arquitectura de Redes Neuronales Recurrentes (RNN), usando un tipo especial de éstas conocido como Long Short Term Memory (LSTM)."
   ]
  },
  {
   "cell_type": "code",
   "execution_count": null,
   "id": "incomplete-success",
   "metadata": {},
   "outputs": [],
   "source": [
    "from keras.models import Sequential\n",
    "from keras.layers import Dense, Dropout, Activation, Input, LSTM, Dense\n",
    "from keras.callbacks import ModelCheckpoint"
   ]
  },
  {
   "cell_type": "markdown",
   "id": "confirmed-activity",
   "metadata": {},
   "source": [
    "\n",
    "### Creación de la RNN tipo LSTM\n",
    "\n",
    "Con la API Keras, se crea la red LSTM con la siguiente configuración:\n",
    "+**Capa 1:** LSTM con 100 neuronas.\n",
    "+**Capa 2:** Dropout que regulariza la red durante el entrenamiento, ignorando de manera random algunas neuronas, mejorando el backpropagation.\n",
    "+**Capa 3:** Dense, se encarga de la multiplicación matricial para dar el valor de salida de la red.\n",
    "\n",
    "Sólo la capa 1 tiene una función de activación, que por default es la tanh.\n"
   ]
  },
  {
   "cell_type": "code",
   "execution_count": 1,
   "id": "35967d59",
   "metadata": {},
   "outputs": [
    {
     "data": {
      "text/plain": [
       "3"
      ]
     },
     "execution_count": 1,
     "metadata": {},
     "output_type": "execute_result"
    }
   ],
   "source": []
  },
  {
   "cell_type": "code",
   "execution_count": null,
   "id": "joint-uncle",
   "metadata": {},
   "outputs": [],
   "source": [
    "# create a small LSTM network\n",
    "model = Sequential()\n",
    "model.add(LSTM(100, input_shape=(df.shape[0], df.shape[1]), return_sequences=False))\n",
    "model.add(Dropout(0.2))\n",
    "model.add(Dense(1, kernel_initializer='random_normal'))\n",
    "\n",
    "model.compile(loss='mean_squared_error', optimizer='adam', metrics=['mae', 'mse'])\n",
    "print(model.summary())"
   ]
  },
  {
   "cell_type": "code",
   "execution_count": null,
   "id": "65688f60",
   "metadata": {},
   "outputs": [],
   "source": [
    "train_size = int(len(df['Temp']) * 0.80)\n",
    "y_pred=df['Temp'][:train_size]\n",
    "y_test=df['Temp'][:train_size]"
   ]
  },
  {
   "cell_type": "code",
   "execution_count": null,
   "id": "78b79940",
   "metadata": {},
   "outputs": [],
   "source": [
    "checkpoint = ModelCheckpoint(\"weights.best.hdf5\", monitor='val_mean_squared_error', verbose=1, save_best_only=True, mode='min')\n",
    "\n",
    "# Fit\n",
    "callbacks_list = [checkpoint]\n",
    "history = model.fit(y_pred, epochs=2500, batch_size=800, verbose=0, callbacks=callbacks_list, validation_split=0.1)"
   ]
  },
  {
   "cell_type": "code",
   "execution_count": null,
   "id": "6e9bbac7",
   "metadata": {},
   "outputs": [],
   "source": []
  }
 ],
 "metadata": {
  "kernelspec": {
   "display_name": "Python 3",
   "language": "python",
   "name": "python3"
  },
  "language_info": {
   "codemirror_mode": {
    "name": "ipython",
    "version": 3
   },
   "file_extension": ".py",
   "mimetype": "text/x-python",
   "name": "python",
   "nbconvert_exporter": "python",
   "pygments_lexer": "ipython3",
   "version": "3.8.5"
  }
 },
 "nbformat": 4,
 "nbformat_minor": 5
}
